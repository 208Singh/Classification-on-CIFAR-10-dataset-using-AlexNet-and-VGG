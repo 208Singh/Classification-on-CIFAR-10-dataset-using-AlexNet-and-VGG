{
  "nbformat": 4,
  "nbformat_minor": 0,
  "metadata": {
    "colab": {
      "provenance": [],
      "toc_visible": true
    },
    "kernelspec": {
      "name": "python3",
      "display_name": "Python 3"
    },
    "language_info": {
      "name": "python"
    }
  },
  "cells": [
    {
      "cell_type": "markdown",
      "source": [
        "ALexNet classifier for Cifar-10 dataset:"
      ],
      "metadata": {
        "id": "U9ofVjN_Gbnl"
      }
    },
    {
      "cell_type": "code",
      "source": [
        "import pandas as pd\n",
        "import numpy as np\n",
        "from sklearn.model_selection import train_test_split"
      ],
      "metadata": {
        "id": "r_-cxOPUjr5S"
      },
      "execution_count": null,
      "outputs": []
    },
    {
      "cell_type": "code",
      "source": [
        "import matplotlib.pyplot as plt"
      ],
      "metadata": {
        "id": "aNEDkIxVj4qK"
      },
      "execution_count": null,
      "outputs": []
    },
    {
      "cell_type": "code",
      "source": [
        "import seaborn as sb"
      ],
      "metadata": {
        "id": "CB-S_SRgj8Vx"
      },
      "execution_count": null,
      "outputs": []
    },
    {
      "cell_type": "code",
      "source": [
        "pip install keras"
      ],
      "metadata": {
        "colab": {
          "base_uri": "https://localhost:8080/"
        },
        "id": "dAchrdg-j-gm",
        "outputId": "3fdf0b6a-5935-4f41-f33b-6c9bd6a3854c"
      },
      "execution_count": null,
      "outputs": [
        {
          "output_type": "stream",
          "name": "stdout",
          "text": [
            "Requirement already satisfied: keras in /usr/local/lib/python3.10/dist-packages (2.15.0)\n"
          ]
        }
      ]
    },
    {
      "cell_type": "code",
      "source": [
        "import tensorflow as tf"
      ],
      "metadata": {
        "id": "2ZB-TpAbkBMf"
      },
      "execution_count": null,
      "outputs": []
    },
    {
      "cell_type": "code",
      "source": [
        "from tensorflow import keras"
      ],
      "metadata": {
        "id": "3p8-e2NwkGro"
      },
      "execution_count": null,
      "outputs": []
    },
    {
      "cell_type": "code",
      "source": [
        "import datetime as dt"
      ],
      "metadata": {
        "id": "OUcAwZqCkKiC"
      },
      "execution_count": null,
      "outputs": []
    },
    {
      "cell_type": "code",
      "source": [
        "(Train_images, Train_labels), (Test_images, Test_labels) = keras.datasets.cifar10.load_data()"
      ],
      "metadata": {
        "colab": {
          "base_uri": "https://localhost:8080/"
        },
        "id": "-obaYco9kM57",
        "outputId": "a2c4e180-0af4-4b00-bb39-5c0e3588b96d"
      },
      "execution_count": null,
      "outputs": [
        {
          "output_type": "stream",
          "name": "stdout",
          "text": [
            "Downloading data from https://www.cs.toronto.edu/~kriz/cifar-10-python.tar.gz\n",
            "170498071/170498071 [==============================] - 3s 0us/step\n"
          ]
        }
      ]
    },
    {
      "cell_type": "code",
      "source": [
        "from sklearn.model_selection import train_test_split\n",
        "x_train,x_val,y_train,y_val=train_test_split(Train_images, Train_labels,test_size=.3)"
      ],
      "metadata": {
        "id": "euxn5n-OkPXK"
      },
      "execution_count": null,
      "outputs": []
    },
    {
      "cell_type": "code",
      "source": [
        "print((x_train.shape,y_train.shape))\n",
        "print((x_val.shape,y_val.shape))\n",
        "print((Test_images.shape,Test_labels.shape))"
      ],
      "metadata": {
        "colab": {
          "base_uri": "https://localhost:8080/"
        },
        "id": "OGDAKXG5kXKS",
        "outputId": "a79b6a46-6554-4df8-a0dd-da1dc1cd0ee1"
      },
      "execution_count": null,
      "outputs": [
        {
          "output_type": "stream",
          "name": "stdout",
          "text": [
            "((35000, 32, 32, 3), (35000, 1))\n",
            "((15000, 32, 32, 3), (15000, 1))\n",
            "((10000, 32, 32, 3), (10000, 1))\n"
          ]
        }
      ]
    },
    {
      "cell_type": "code",
      "source": [
        "\n",
        "print ('train_images shape:',Train_images.shape)\n",
        "print ('test_images shape:',Test_images.shape)\n",
        "print ('train_labels shape:',Train_labels.shape)\n",
        "print ('test_labels shape:',Test_labels.shape)"
      ],
      "metadata": {
        "colab": {
          "base_uri": "https://localhost:8080/"
        },
        "id": "bTLjgc_jkbLG",
        "outputId": "a6eacc5e-bed1-4c23-b42f-70a708f4d1ba"
      },
      "execution_count": null,
      "outputs": [
        {
          "output_type": "stream",
          "name": "stdout",
          "text": [
            "train_images shape: (50000, 32, 32, 3)\n",
            "test_images shape: (10000, 32, 32, 3)\n",
            "train_labels shape: (50000, 1)\n",
            "test_labels shape: (10000, 1)\n"
          ]
        }
      ]
    },
    {
      "cell_type": "code",
      "source": [
        "plt.imshow(Train_images[450])"
      ],
      "metadata": {
        "colab": {
          "base_uri": "https://localhost:8080/",
          "height": 448
        },
        "id": "BFX6Tzt1khFL",
        "outputId": "a25fc53f-6493-453c-89a9-ad600f8738ee"
      },
      "execution_count": null,
      "outputs": [
        {
          "output_type": "execute_result",
          "data": {
            "text/plain": [
              "<matplotlib.image.AxesImage at 0x7f23e7704310>"
            ]
          },
          "metadata": {},
          "execution_count": 12
        },
        {
          "output_type": "display_data",
          "data": {
            "text/plain": [
              "<Figure size 640x480 with 1 Axes>"
            ],
            "image/png": "[encoded data removed]"
          },
          "metadata": {}
        }
      ]
    },
    {
      "cell_type": "code",
      "source": [
        "validation_images, validation_labels = Test_images[5000:6000], Test_labels[5000:6000]\n",
        "train_images, train_labels = Train_images[:5000], Train_labels[:5000]"
      ],
      "metadata": {
        "id": "oTDm94hRkkNh"
      },
      "execution_count": null,
      "outputs": []
    },
    {
      "cell_type": "code",
      "source": [
        "print ('train_images shape:',train_images.shape)\n",
        "print ('test_images shape:',validation_images.shape)\n",
        "print ('train_labels shape:',train_labels.shape)\n",
        "print ('test_labels shape:',validation_labels.shape)"
      ],
      "metadata": {
        "colab": {
          "base_uri": "https://localhost:8080/"
        },
        "id": "RElcPagWkn24",
        "outputId": "32b8a4f5-82f5-4ea3-d794-820796bd68f3"
      },
      "execution_count": null,
      "outputs": [
        {
          "output_type": "stream",
          "name": "stdout",
          "text": [
            "train_images shape: (5000, 32, 32, 3)\n",
            "test_images shape: (1000, 32, 32, 3)\n",
            "train_labels shape: (5000, 1)\n",
            "test_labels shape: (1000, 1)\n"
          ]
        }
      ]
    },
    {
      "cell_type": "code",
      "source": [
        "def process_images(image, label):\n",
        "\n",
        "    image = tf.image.per_image_standardization(image)\n",
        "\n",
        "    image = tf.image.resize(image, (227,227))\n",
        "    return image, label"
      ],
      "metadata": {
        "id": "FTk_f_pfkqt2"
      },
      "execution_count": null,
      "outputs": []
    },
    {
      "cell_type": "code",
      "source": [
        "train_dataset = tf.data.Dataset.from_tensor_slices((train_images, train_labels)).batch(32).shuffle(1000)\n",
        "train_dataset = train_dataset.map(lambda x,y: (tf.math.divide(tf.cast(x,tf.float32),255.0),tf.reshape(tf.one_hot(y,10),(-1,10))))"
      ],
      "metadata": {
        "id": "diGP8lOIkuhA"
      },
      "execution_count": null,
      "outputs": []
    },
    {
      "cell_type": "code",
      "source": [
        "train_dataset = train_dataset.map(process_images)"
      ],
      "metadata": {
        "id": "NDaK4JWJkyK1"
      },
      "execution_count": null,
      "outputs": []
    },
    {
      "cell_type": "code",
      "source": [
        "valid_dataset = tf.data.Dataset.from_tensor_slices((validation_images, validation_labels)).batch(100).shuffle(1000)\n",
        "valid_dataset = valid_dataset.map(lambda x,y: (tf.math.divide(tf.cast(x,tf.float32),255.0), tf.reshape(tf.one_hot(y,10),(-1,10))))"
      ],
      "metadata": {
        "id": "rBZNsCvqk05L"
      },
      "execution_count": null,
      "outputs": []
    },
    {
      "cell_type": "code",
      "source": [
        "valid_dataset = valid_dataset.map(process_images)"
      ],
      "metadata": {
        "id": "aHWCTPXBk5k0"
      },
      "execution_count": null,
      "outputs": []
    },
    {
      "cell_type": "code",
      "source": [
        "from keras.models import load_model\n",
        "from keras.layers import Dense, GlobalAveragePooling2D, Flatten\n",
        "from keras.layers import Conv2D, MaxPooling2D\n",
        "from keras.models import Sequential\n",
        "from keras.models import Model\n",
        "import os\n",
        "import time"
      ],
      "metadata": {
        "id": "H8CDuvbxk72x"
      },
      "execution_count": null,
      "outputs": []
    },
    {
      "cell_type": "code",
      "source": [
        "model = keras.models.Sequential([\n",
        "    keras.layers.Conv2D(filters=96, kernel_size=(3,3), strides=(4,4), activation='relu', input_shape=(227,227,3)),\n",
        "    keras.layers.MaxPool2D(pool_size=(2,2), strides=(2,2)),\n",
        "    keras.layers.Conv2D(filters=256, kernel_size=(5,5), strides=(1,1), activation='relu', padding=\"same\"),\n",
        "    keras.layers.MaxPool2D(pool_size=(3,3), strides=(2,2)),\n",
        "    keras.layers.Conv2D(filters=384, kernel_size=(3,3), strides=(1,1), activation='relu', padding=\"same\"),\n",
        "    keras.layers.Conv2D(filters=384, kernel_size=(3,3), strides=(1,1), activation='relu', padding=\"same\"),\n",
        "    keras.layers.Conv2D(filters=256, kernel_size=(3,3), strides=(1,1), activation='relu', padding=\"same\"),\n",
        "    keras.layers.MaxPool2D(pool_size=(2,2), strides=(2,2)),\n",
        "\n",
        "    keras.layers.Flatten(),\n",
        "    keras.layers.Dense(4096, activation='relu'),\n",
        "    keras.layers.Dropout(0.5),\n",
        "    keras.layers.Dense(4096, activation='relu'),\n",
        "    keras.layers.Dropout(0.5),\n",
        "    keras.layers.Dense(10, activation='softmax')\n",
        "])"
      ],
      "metadata": {
        "id": "RM5s780tlKYl"
      },
      "execution_count": null,
      "outputs": []
    },
    {
      "cell_type": "code",
      "source": [
        "model.compile(loss= 'categorical_crossentropy' , optimizer=tf.optimizers.SGD(learning_rate=0.001), metrics=[ 'accuracy' ])\n",
        "model.summary()"
      ],
      "metadata": {
        "colab": {
          "base_uri": "https://localhost:8080/"
        },
        "id": "4HZJcPt7lNzc",
        "outputId": "3f64f71d-a837-4ea0-8e25-1cf3193e9f4b"
      },
      "execution_count": null,
      "outputs": [
        {
          "output_type": "stream",
          "name": "stdout",
          "text": [
            "Model: \"sequential\"\n",
            "_________________________________________________________________\n",
            " Layer (type)                Output Shape              Param #   \n",
            "=================================================================\n",
            " conv2d (Conv2D)             (None, 57, 57, 96)        2688      \n",
            "                                                                 \n",
            " max_pooling2d (MaxPooling2  (None, 28, 28, 96)        0         \n",
            " D)                                                              \n",
            "                                                                 \n",
            " conv2d_1 (Conv2D)           (None, 28, 28, 256)       614656    \n",
            "                                                                 \n",
            " max_pooling2d_1 (MaxPoolin  (None, 13, 13, 256)       0         \n",
            " g2D)                                                            \n",
            "                                                                 \n",
            " conv2d_2 (Conv2D)           (None, 13, 13, 384)       885120    \n",
            "                                                                 \n",
            " conv2d_3 (Conv2D)           (None, 13, 13, 384)       1327488   \n",
            "                                                                 \n",
            " conv2d_4 (Conv2D)           (None, 13, 13, 256)       884992    \n",
            "                                                                 \n",
            " max_pooling2d_2 (MaxPoolin  (None, 6, 6, 256)         0         \n",
            " g2D)                                                            \n",
            "                                                                 \n",
            " flatten (Flatten)           (None, 9216)              0         \n",
            "                                                                 \n",
            " dense (Dense)               (None, 4096)              37752832  \n",
            "                                                                 \n",
            " dropout (Dropout)           (None, 4096)              0         \n",
            "                                                                 \n",
            " dense_1 (Dense)             (None, 4096)              16781312  \n",
            "                                                                 \n",
            " dropout_1 (Dropout)         (None, 4096)              0         \n",
            "                                                                 \n",
            " dense_2 (Dense)             (None, 10)                40970     \n",
            "                                                                 \n",
            "=================================================================\n",
            "Total params: 58290058 (222.36 MB)\n",
            "Trainable params: 58290058 (222.36 MB)\n",
            "Non-trainable params: 0 (0.00 Byte)\n",
            "_________________________________________________________________\n"
          ]
        }
      ]
    },
    {
      "cell_type": "code",
      "source": [
        "model_history1 = model.fit(train_dataset, epochs=10, validation_data=valid_dataset, validation_steps=3)"
      ],
      "metadata": {
        "colab": {
          "base_uri": "https://localhost:8080/"
        },
        "id": "H2Lo0qtRlT05",
        "outputId": "52b017fb-f7dc-426d-8894-c5aede7e9425"
      },
      "execution_count": null,
      "outputs": [
        {
          "output_type": "stream",
          "name": "stdout",
          "text": [
            "Epoch 1/10\n",
            "157/157 [==============================] - 769s 5s/step - loss: 2.3034 - accuracy: 0.1070 - val_loss: 2.2924 - val_accuracy: 0.1833\n",
            "Epoch 2/10\n",
            "157/157 [==============================] - 759s 5s/step - loss: 2.2935 - accuracy: 0.1242 - val_loss: 2.2874 - val_accuracy: 0.1467\n",
            "Epoch 3/10\n",
            "157/157 [==============================] - 749s 5s/step - loss: 2.2852 - accuracy: 0.1456 - val_loss: 2.2688 - val_accuracy: 0.2133\n",
            "Epoch 4/10\n",
            "157/157 [==============================] - 757s 5s/step - loss: 2.2758 - accuracy: 0.1452 - val_loss: 2.2566 - val_accuracy: 0.2667\n",
            "Epoch 5/10\n",
            "157/157 [==============================] - 764s 5s/step - loss: 2.2605 - accuracy: 0.1614 - val_loss: 2.2238 - val_accuracy: 0.2933\n",
            "Epoch 6/10\n",
            "157/157 [==============================] - 758s 5s/step - loss: 2.2332 - accuracy: 0.1904 - val_loss: 2.1926 - val_accuracy: 0.2767\n",
            "Epoch 7/10\n",
            "157/157 [==============================] - 761s 5s/step - loss: 2.1918 - accuracy: 0.2198 - val_loss: 2.1092 - val_accuracy: 0.3233\n",
            "Epoch 8/10\n",
            "157/157 [==============================] - 761s 5s/step - loss: 2.1299 - accuracy: 0.2272 - val_loss: 2.0420 - val_accuracy: 0.3100\n",
            "Epoch 9/10\n",
            "157/157 [==============================] - 764s 5s/step - loss: 2.0588 - accuracy: 0.2520 - val_loss: 1.9340 - val_accuracy: 0.3667\n",
            "Epoch 10/10\n",
            "157/157 [==============================] - 757s 5s/step - loss: 2.0053 - accuracy: 0.2710 - val_loss: 1.8936 - val_accuracy: 0.3300\n"
          ]
        }
      ]
    },
    {
      "cell_type": "code",
      "source": [
        "plt.plot(model_history1.history['val_loss'], color='green', label=\"Validation Loss\")\n",
        "plt.xlabel(\"Number of Epochs\")\n",
        "plt.ylabel(\"Validation Loss\")\n",
        "plt.legend()\n",
        "plt.show()"
      ],
      "metadata": {
        "colab": {
          "base_uri": "https://localhost:8080/",
          "height": 449
        },
        "id": "dz64mu3nlkA3",
        "outputId": "0bc96b57-d079-433e-d0ed-9d497e54a0e2"
      },
      "execution_count": 24,
      "outputs": [
        {
          "output_type": "display_data",
          "data": {
            "text/plain": [
              "<Figure size 640x480 with 1 Axes>"
            ],
            "image/png": "[encoded data removed]"
          },
          "metadata": {}
        }
      ]
    },
    {
      "cell_type": "code",
      "source": [
        "plt.plot(model_history1.history['val_accuracy'], color='r', label=\"Validation Accuracy\")\n",
        "plt.xlabel(\"Number of Epochs\")\n",
        "plt.ylabel(\"Accuracy\")\n",
        "plt.legend()\n",
        "plt.show()"
      ],
      "metadata": {
        "colab": {
          "base_uri": "https://localhost:8080/",
          "height": 449
        },
        "id": "gf-_z97dSt99",
        "outputId": "2f0a9e39-08a7-49cc-b7ec-d49272de0b94"
      },
      "execution_count": 25,
      "outputs": [
        {
          "output_type": "display_data",
          "data": {
            "text/plain": [
              "<Figure size 640x480 with 1 Axes>"
            ],
            "image/png": "[encoded data removed]"
          },
          "metadata": {}
        }
      ]
    },
    {
      "cell_type": "code",
      "source": [
        "pd.DataFrame(model_history1.history).plot()"
      ],
      "metadata": {
        "colab": {
          "base_uri": "https://localhost:8080/",
          "height": 448
        },
        "id": "qyjzhFh4S2dM",
        "outputId": "f08103a3-3815-49af-e0be-544411155780"
      },
      "execution_count": 26,
      "outputs": [
        {
          "output_type": "execute_result",
          "data": {
            "text/plain": [
              "<Axes: >"
            ]
          },
          "metadata": {},
          "execution_count": 26
        },
        {
          "output_type": "display_data",
          "data": {
            "text/plain": [
              "<Figure size 640x480 with 1 Axes>"
            ],
            "image/png": "[encoded data removed]"
          },
          "metadata": {}
        }
      ]
    },
    {
      "cell_type": "code",
      "source": [
        "score = model.evaluate(valid_dataset)"
      ],
      "metadata": {
        "colab": {
          "base_uri": "https://localhost:8080/"
        },
        "id": "tvtu46EMS_rj",
        "outputId": "577dee1f-d277-4efa-9ad8-d3b101e14219"
      },
      "execution_count": 27,
      "outputs": [
        {
          "output_type": "stream",
          "name": "stdout",
          "text": [
            "10/10 [==============================] - 43s 4s/step - loss: 1.9337 - accuracy: 0.3320\n"
          ]
        }
      ]
    },
    {
      "cell_type": "markdown",
      "source": [
        "Hence, Using AlexNet we are getting a validation accuracy of 33%"
      ],
      "metadata": {
        "id": "3AJ1VhSPDw29"
      }
    },
    {
      "cell_type": "code",
      "source": [
        "score"
      ],
      "metadata": {
        "colab": {
          "base_uri": "https://localhost:8080/"
        },
        "id": "b55DNepvTQYZ",
        "outputId": "143f57ab-6a78-4ad4-ba8c-046cf38cee4c"
      },
      "execution_count": 28,
      "outputs": [
        {
          "output_type": "execute_result",
          "data": {
            "text/plain": [
              "[1.9337279796600342, 0.3319999873638153]"
            ]
          },
          "metadata": {},
          "execution_count": 28
        }
      ]
    },
    {
      "cell_type": "code",
      "source": [
        "y_pred = model.predict(valid_dataset)"
      ],
      "metadata": {
        "colab": {
          "base_uri": "https://localhost:8080/"
        },
        "id": "AeaG1TUTTglS",
        "outputId": "81b24d02-ddaa-41e8-c634-1d7c70677e73"
      },
      "execution_count": 29,
      "outputs": [
        {
          "output_type": "stream",
          "name": "stdout",
          "text": [
            "10/10 [==============================] - 47s 5s/step\n"
          ]
        }
      ]
    },
    {
      "cell_type": "code",
      "source": [
        "import cv2"
      ],
      "metadata": {
        "id": "TcIoeG1PXrqm"
      },
      "execution_count": null,
      "outputs": []
    },
    {
      "cell_type": "markdown",
      "source": [
        "VGG-19 classifier for Cifar -10 dataset:"
      ],
      "metadata": {
        "id": "oroXb11_GSNA"
      }
    },
    {
      "cell_type": "code",
      "source": [
        "import matplotlib.pyplot as plt\n",
        "import numpy as np\n",
        "import os\n",
        "import PIL\n",
        "import tensorflow as tf\n",
        "from tensorflow import keras\n",
        "from tensorflow.keras import layers\n",
        "from tensorflow.python.keras.layers import Dense, Flatten\n",
        "from tensorflow.keras.models import Sequential\n",
        "from tensorflow.keras.optimizers import Adam"
      ],
      "metadata": {
        "id": "ExuYoXQeW3oy"
      },
      "execution_count": null,
      "outputs": []
    },
    {
      "cell_type": "code",
      "source": [
        "from keras.applications.vgg19 import VGG19"
      ],
      "metadata": {
        "id": "te6fd2V2lNJd"
      },
      "execution_count": null,
      "outputs": []
    },
    {
      "cell_type": "code",
      "source": [
        "from keras.utils import to_categorical"
      ],
      "metadata": {
        "id": "ROhWHI1zlbjq"
      },
      "execution_count": null,
      "outputs": []
    },
    {
      "cell_type": "code",
      "source": [
        "def resize_img(img):\n",
        "    numberOfImage = img.shape[0]\n",
        "    new_array = np.zeros((numberOfImage, 48,48,3))\n",
        "    for i in range(numberOfImage):\n",
        "        new_array[i] = cv2.resize(img[i,:,:,:],(48,48))\n",
        "    return new_array"
      ],
      "metadata": {
        "id": "nUVP0uF4llJl"
      },
      "execution_count": null,
      "outputs": []
    },
    {
      "cell_type": "code",
      "source": [
        "x_train = resize_img(Train_images)\n",
        "x_test = resize_img(Test_images)\n",
        "print(\"New shape of x_train is \",x_train.shape)\n",
        "print(\"New shape of x_test  is \",x_test.shape)"
      ],
      "metadata": {
        "colab": {
          "base_uri": "https://localhost:8080/"
        },
        "id": "l1AeitEKlwqX",
        "outputId": "b9901b50-7421-4ca4-9f2c-71ab73cdae75"
      },
      "execution_count": null,
      "outputs": [
        {
          "output_type": "stream",
          "name": "stdout",
          "text": [
            "New shape of x_train is  (50000, 48, 48, 3)\n",
            "New shape of x_test  is  (10000, 48, 48, 3)\n"
          ]
        }
      ]
    },
    {
      "cell_type": "code",
      "source": [
        "y_train = to_categorical(Train_labels,num_classes=10)\n",
        "y_test = to_categorical(Test_labels,num_classes=10)\n",
        "\n",
        "print(\"New shape of y_train is \",y_train.shape)\n",
        "print(\"New shape of y_test  is \",y_test.shape)"
      ],
      "metadata": {
        "colab": {
          "base_uri": "https://localhost:8080/"
        },
        "id": "4RYCzAiDmLpp",
        "outputId": "90d39ded-37dd-4af7-cddf-3f89945e159c"
      },
      "execution_count": null,
      "outputs": [
        {
          "output_type": "stream",
          "name": "stdout",
          "text": [
            "New shape of y_train is  (50000, 10)\n",
            "New shape of y_test  is  (10000, 10)\n"
          ]
        }
      ]
    },
    {
      "cell_type": "code",
      "source": [
        "vgg = VGG19(include_top=False,weights=\"imagenet\",input_shape=(48,48,3))\n",
        "\n",
        "vgg.summary()"
      ],
      "metadata": {
        "colab": {
          "base_uri": "https://localhost:8080/"
        },
        "id": "fNNpj0V5mp2j",
        "outputId": "6d1669e2-73b0-42f0-f32e-fee8479a1676"
      },
      "execution_count": null,
      "outputs": [
        {
          "output_type": "stream",
          "name": "stdout",
          "text": [
            "Downloading data from https://storage.googleapis.com/tensorflow/keras-applications/vgg19/vgg19_weights_tf_dim_ordering_tf_kernels_notop.h5\n",
            "80134624/80134624 [==============================] - 1s 0us/step\n",
            "Model: \"vgg19\"\n",
            "_________________________________________________________________\n",
            " Layer (type)                Output Shape              Param #   \n",
            "=================================================================\n",
            " input_1 (InputLayer)        [(None, 48, 48, 3)]       0         \n",
            "                                                                 \n",
            " block1_conv1 (Conv2D)       (None, 48, 48, 64)        1792      \n",
            "                                                                 \n",
            " block1_conv2 (Conv2D)       (None, 48, 48, 64)        36928     \n",
            "                                                                 \n",
            " block1_pool (MaxPooling2D)  (None, 24, 24, 64)        0         \n",
            "                                                                 \n",
            " block2_conv1 (Conv2D)       (None, 24, 24, 128)       73856     \n",
            "                                                                 \n",
            " block2_conv2 (Conv2D)       (None, 24, 24, 128)       147584    \n",
            "                                                                 \n",
            " block2_pool (MaxPooling2D)  (None, 12, 12, 128)       0         \n",
            "                                                                 \n",
            " block3_conv1 (Conv2D)       (None, 12, 12, 256)       295168    \n",
            "                                                                 \n",
            " block3_conv2 (Conv2D)       (None, 12, 12, 256)       590080    \n",
            "                                                                 \n",
            " block3_conv3 (Conv2D)       (None, 12, 12, 256)       590080    \n",
            "                                                                 \n",
            " block3_conv4 (Conv2D)       (None, 12, 12, 256)       590080    \n",
            "                                                                 \n",
            " block3_pool (MaxPooling2D)  (None, 6, 6, 256)         0         \n",
            "                                                                 \n",
            " block4_conv1 (Conv2D)       (None, 6, 6, 512)         1180160   \n",
            "                                                                 \n",
            " block4_conv2 (Conv2D)       (None, 6, 6, 512)         2359808   \n",
            "                                                                 \n",
            " block4_conv3 (Conv2D)       (None, 6, 6, 512)         2359808   \n",
            "                                                                 \n",
            " block4_conv4 (Conv2D)       (None, 6, 6, 512)         2359808   \n",
            "                                                                 \n",
            " block4_pool (MaxPooling2D)  (None, 3, 3, 512)         0         \n",
            "                                                                 \n",
            " block5_conv1 (Conv2D)       (None, 3, 3, 512)         2359808   \n",
            "                                                                 \n",
            " block5_conv2 (Conv2D)       (None, 3, 3, 512)         2359808   \n",
            "                                                                 \n",
            " block5_conv3 (Conv2D)       (None, 3, 3, 512)         2359808   \n",
            "                                                                 \n",
            " block5_conv4 (Conv2D)       (None, 3, 3, 512)         2359808   \n",
            "                                                                 \n",
            " block5_pool (MaxPooling2D)  (None, 1, 1, 512)         0         \n",
            "                                                                 \n",
            "=================================================================\n",
            "Total params: 20024384 (76.39 MB)\n",
            "Trainable params: 20024384 (76.39 MB)\n",
            "Non-trainable params: 0 (0.00 Byte)\n",
            "_________________________________________________________________\n"
          ]
        }
      ]
    },
    {
      "cell_type": "code",
      "source": [
        "model = Sequential()\n",
        "\n",
        "for layer in vgg.layers:\n",
        "    model.add(layer)\n",
        "\n",
        "for layer in model.layers:\n",
        "    layer.trainable = False\n",
        "\n",
        "model.add(Flatten())\n",
        "model.add(Dense(128))\n",
        "model.add(Dense(10,activation=\"softmax\"))\n",
        "\n",
        "model.summary()"
      ],
      "metadata": {
        "colab": {
          "base_uri": "https://localhost:8080/"
        },
        "id": "6c3kPCzqm4YF",
        "outputId": "5858aac4-efcb-4414-cb71-de53a205b2f3"
      },
      "execution_count": null,
      "outputs": [
        {
          "output_type": "stream",
          "name": "stdout",
          "text": [
            "Model: \"sequential\"\n",
            "_________________________________________________________________\n",
            " Layer (type)                Output Shape              Param #   \n",
            "=================================================================\n",
            " block1_conv1 (Conv2D)       (None, 48, 48, 64)        1792      \n",
            "                                                                 \n",
            " block1_conv2 (Conv2D)       (None, 48, 48, 64)        36928     \n",
            "                                                                 \n",
            " block1_pool (MaxPooling2D)  (None, 24, 24, 64)        0         \n",
            "                                                                 \n",
            " block2_conv1 (Conv2D)       (None, 24, 24, 128)       73856     \n",
            "                                                                 \n",
            " block2_conv2 (Conv2D)       (None, 24, 24, 128)       147584    \n",
            "                                                                 \n",
            " block2_pool (MaxPooling2D)  (None, 12, 12, 128)       0         \n",
            "                                                                 \n",
            " block3_conv1 (Conv2D)       (None, 12, 12, 256)       295168    \n",
            "                                                                 \n",
            " block3_conv2 (Conv2D)       (None, 12, 12, 256)       590080    \n",
            "                                                                 \n",
            " block3_conv3 (Conv2D)       (None, 12, 12, 256)       590080    \n",
            "                                                                 \n",
            " block3_conv4 (Conv2D)       (None, 12, 12, 256)       590080    \n",
            "                                                                 \n",
            " block3_pool (MaxPooling2D)  (None, 6, 6, 256)         0         \n",
            "                                                                 \n",
            " block4_conv1 (Conv2D)       (None, 6, 6, 512)         1180160   \n",
            "                                                                 \n",
            " block4_conv2 (Conv2D)       (None, 6, 6, 512)         2359808   \n",
            "                                                                 \n",
            " block4_conv3 (Conv2D)       (None, 6, 6, 512)         2359808   \n",
            "                                                                 \n",
            " block4_conv4 (Conv2D)       (None, 6, 6, 512)         2359808   \n",
            "                                                                 \n",
            " block4_pool (MaxPooling2D)  (None, 3, 3, 512)         0         \n",
            "                                                                 \n",
            " block5_conv1 (Conv2D)       (None, 3, 3, 512)         2359808   \n",
            "                                                                 \n",
            " block5_conv2 (Conv2D)       (None, 3, 3, 512)         2359808   \n",
            "                                                                 \n",
            " block5_conv3 (Conv2D)       (None, 3, 3, 512)         2359808   \n",
            "                                                                 \n",
            " block5_conv4 (Conv2D)       (None, 3, 3, 512)         2359808   \n",
            "                                                                 \n",
            " block5_pool (MaxPooling2D)  (None, 1, 1, 512)         0         \n",
            "                                                                 \n",
            " module_wrapper (ModuleWrap  (None, 512)               0         \n",
            " per)                                                            \n",
            "                                                                 \n",
            " module_wrapper_1 (ModuleWr  (None, 128)               65664     \n",
            " apper)                                                          \n",
            "                                                                 \n",
            " module_wrapper_2 (ModuleWr  (None, 10)                1290      \n",
            " apper)                                                          \n",
            "                                                                 \n",
            "=================================================================\n",
            "Total params: 20091338 (76.64 MB)\n",
            "Trainable params: 66954 (261.54 KB)\n",
            "Non-trainable params: 20024384 (76.39 MB)\n",
            "_________________________________________________________________\n"
          ]
        }
      ]
    },
    {
      "cell_type": "code",
      "source": [
        "model.compile(optimizer=\"RMSprop\",loss=\"categorical_crossentropy\",metrics=[\"accuracy\"])\n",
        "\n",
        "hist = model.fit(x_train,y_train,validation_split=0.15,epochs=10,batch_size=1000)"
      ],
      "metadata": {
        "colab": {
          "base_uri": "https://localhost:8080/"
        },
        "id": "PWlakobxnIcp",
        "outputId": "6d88e8fc-2ac2-41be-9697-c7b577779cb1"
      },
      "execution_count": null,
      "outputs": [
        {
          "output_type": "stream",
          "name": "stdout",
          "text": [
            "Epoch 1/10\n",
            "43/43 [==============================] - 1745s 41s/step - loss: 8.3321 - accuracy: 0.3992 - val_loss: 4.8159 - val_accuracy: 0.4871\n",
            "Epoch 2/10\n",
            "43/43 [==============================] - 1746s 41s/step - loss: 4.1695 - accuracy: 0.5014 - val_loss: 4.2938 - val_accuracy: 0.4821\n",
            "Epoch 3/10\n",
            "43/43 [==============================] - 1705s 40s/step - loss: 3.4613 - accuracy: 0.5169 - val_loss: 3.6344 - val_accuracy: 0.4544\n",
            "Epoch 4/10\n",
            "43/43 [==============================] - 1704s 40s/step - loss: 3.1496 - accuracy: 0.5201 - val_loss: 3.0380 - val_accuracy: 0.5064\n",
            "Epoch 5/10\n",
            "43/43 [==============================] - 1703s 40s/step - loss: 2.8268 - accuracy: 0.5269 - val_loss: 3.4960 - val_accuracy: 0.5084\n",
            "Epoch 6/10\n",
            "43/43 [==============================] - 1708s 40s/step - loss: 2.7746 - accuracy: 0.5268 - val_loss: 3.1352 - val_accuracy: 0.4597\n",
            "Epoch 7/10\n",
            "43/43 [==============================] - 1703s 40s/step - loss: 2.5997 - accuracy: 0.5255 - val_loss: 3.0812 - val_accuracy: 0.5084\n",
            "Epoch 8/10\n",
            "43/43 [==============================] - 1703s 40s/step - loss: 2.4703 - accuracy: 0.5301 - val_loss: 2.0567 - val_accuracy: 0.5527\n",
            "Epoch 9/10\n",
            "43/43 [==============================] - 1696s 40s/step - loss: 2.4087 - accuracy: 0.5285 - val_loss: 2.4553 - val_accuracy: 0.5275\n",
            "Epoch 10/10\n",
            "43/43 [==============================] - 1703s 40s/step - loss: 2.2991 - accuracy: 0.5334 - val_loss: 2.4101 - val_accuracy: 0.5107\n"
          ]
        }
      ]
    },
    {
      "cell_type": "code",
      "source": [
        "plt.subplots(figsize=(6,4))\n",
        "plt.plot(hist.epoch,hist.history[\"loss\"],color=\"green\",label=\"Train Loss\")\n",
        "plt.plot(hist.epoch,hist.history[\"val_loss\"],color=\"blue\",label=\"Validation Loss\")\n",
        "plt.xlabel(\"Epoch Number\")\n",
        "plt.ylabel(\"Loss\")\n",
        "plt.legend()\n",
        "plt.title(\"Loss Graph\")\n",
        "plt.show()"
      ],
      "metadata": {
        "id": "eAA1i7Dsd-BR",
        "colab": {
          "base_uri": "https://localhost:8080/",
          "height": 410
        },
        "outputId": "60b0aa4f-6c3d-43ee-f428-017b114f3d9f"
      },
      "execution_count": null,
      "outputs": [
        {
          "output_type": "display_data",
          "data": {
            "text/plain": [
              "<Figure size 600x400 with 1 Axes>"
            ],
            "image/png": "[encoded data removed]"
          },
          "metadata": {}
        }
      ]
    },
    {
      "cell_type": "code",
      "source": [
        "plt.subplots(figsize=(6,4))\n",
        "plt.plot(hist.epoch,hist.history[\"accuracy\"],color=\"green\",label=\"Train Accuracy\")\n",
        "plt.plot(hist.epoch,hist.history[\"val_accuracy\"],color=\"blue\",label=\"Validation Accuracy\")\n",
        "plt.xlabel(\"Epoch Number\")\n",
        "plt.ylabel(\"Accuracy\")\n",
        "plt.legend()\n",
        "plt.title(\"Accuracy Graph\")\n",
        "plt.show()"
      ],
      "metadata": {
        "id": "RtSqT-bhc0xZ",
        "colab": {
          "base_uri": "https://localhost:8080/",
          "height": 410
        },
        "outputId": "67de264a-91a1-4130-ae3c-dfe43842c53d"
      },
      "execution_count": null,
      "outputs": [
        {
          "output_type": "display_data",
          "data": {
            "text/plain": [
              "<Figure size 600x400 with 1 Axes>"
            ],
            "image/png": "[encoded data removed]"
          },
          "metadata": {}
        }
      ]
    },
    {
      "cell_type": "markdown",
      "source": [
        "Hence, Using VGG-19, we are getting a train accuracy of 53% and a validation accuracy between 45-55%."
      ],
      "metadata": {
        "id": "AnpL1zNDDrGO"
      }
    },
    {
      "cell_type": "code",
      "source": [
        "model.evaluate(x_test,y_test)"
      ],
      "metadata": {
        "colab": {
          "base_uri": "https://localhost:8080/"
        },
        "id": "IrERiCfvH6IV",
        "outputId": "ff9c4094-5de7-4307-a2a4-1121a6b808e3"
      },
      "execution_count": null,
      "outputs": [
        {
          "output_type": "stream",
          "name": "stdout",
          "text": [
            "313/313 [==============================] - 338s 1s/step - loss: 2.3611 - accuracy: 0.5152\n"
          ]
        },
        {
          "output_type": "execute_result",
          "data": {
            "text/plain": [
              "[2.361116647720337, 0.5152000188827515]"
            ]
          },
          "metadata": {},
          "execution_count": 35
        }
      ]
    },
    {
      "cell_type": "code",
      "source": [],
      "metadata": {
        "id": "wQ6Z425vIMKg"
      },
      "execution_count": null,
      "outputs": []
    }
  ]
}